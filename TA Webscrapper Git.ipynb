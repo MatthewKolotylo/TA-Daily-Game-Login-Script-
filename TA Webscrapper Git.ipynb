{
 "cells": [
  {
   "cell_type": "code",
   "execution_count": 4,
   "metadata": {},
   "outputs": [],
   "source": [
    "import selenium\n",
    "import time\n",
    "from selenium import webdriver\n",
    "from selenium.webdriver.common.by import By\n",
    "\n",
    "\n",
    "from dotenv import load_dotenv\n",
    "import os\n",
    "from pathlib import Path\n",
    "\n",
    "\n",
    "\n",
    "#to update driver\n",
    "#https://sites.google.com/chromium.org/driver/"
   ]
  },
  {
   "cell_type": "code",
   "execution_count": 5,
   "metadata": {},
   "outputs": [],
   "source": [
    "#login information, configure your own .env file with login information for the TA website\n",
    "\n",
    "\n",
    "env_path = Path(\".env\")\n",
    "load_dotenv(dotenv_path=env_path)\n",
    "username = os.getenv(\"TAUSERNAME\")\n",
    "password = os.getenv(\"TAPASSWORD\")"
   ]
  },
  {
   "cell_type": "code",
   "execution_count": 6,
   "metadata": {},
   "outputs": [
    {
     "ename": "NoSuchElementException",
     "evalue": "Message: no such element: Unable to locate element: {\"method\":\"xpath\",\"selector\":\"//*[@id=\"frm\"]/div[2]/div[2]/main/div[1]/div[1]/div[2]/a\"}\n  (Session info: chrome=131.0.6778.86); For documentation on this error, please visit: https://www.selenium.dev/documentation/webdriver/troubleshooting/errors#no-such-element-exception\nStacktrace:\n\tGetHandleVerifier [0x00007FF7ED626CB5+28821]\n\t(No symbol) [0x00007FF7ED593840]\n\t(No symbol) [0x00007FF7ED43578A]\n\t(No symbol) [0x00007FF7ED4891BE]\n\t(No symbol) [0x00007FF7ED4894AC]\n\t(No symbol) [0x00007FF7ED4D2647]\n\t(No symbol) [0x00007FF7ED4AF33F]\n\t(No symbol) [0x00007FF7ED4CF412]\n\t(No symbol) [0x00007FF7ED4AF0A3]\n\t(No symbol) [0x00007FF7ED47A778]\n\t(No symbol) [0x00007FF7ED47B8E1]\n\tGetHandleVerifier [0x00007FF7ED95FCAD+3408013]\n\tGetHandleVerifier [0x00007FF7ED97741F+3504127]\n\tGetHandleVerifier [0x00007FF7ED96B5FD+3455453]\n\tGetHandleVerifier [0x00007FF7ED6EBDBB+835995]\n\t(No symbol) [0x00007FF7ED59EB5F]\n\t(No symbol) [0x00007FF7ED59A814]\n\t(No symbol) [0x00007FF7ED59A9AD]\n\t(No symbol) [0x00007FF7ED58A199]\n\tBaseThreadInitThunk [0x00007FFB7678E8D7+23]\n\tRtlUserThreadStart [0x00007FFB777FFBCC+44]\n",
     "output_type": "error",
     "traceback": [
      "\u001b[1;31m---------------------------------------------------------------------------\u001b[0m",
      "\u001b[1;31mNoSuchElementException\u001b[0m                    Traceback (most recent call last)",
      "Cell \u001b[1;32mIn[6], line 23\u001b[0m\n\u001b[0;32m     19\u001b[0m driver\u001b[38;5;241m.\u001b[39mget(\u001b[38;5;124m\"\u001b[39m\u001b[38;5;124mhttps://www.trueachievements.com/win-xbox-games\u001b[39m\u001b[38;5;124m\"\u001b[39m)\n\u001b[0;32m     22\u001b[0m \u001b[38;5;66;03m#clicking on daily games contest\u001b[39;00m\n\u001b[1;32m---> 23\u001b[0m clickable_element \u001b[38;5;241m=\u001b[39m \u001b[43mdriver\u001b[49m\u001b[38;5;241;43m.\u001b[39;49m\u001b[43mfind_element\u001b[49m\u001b[43m(\u001b[49m\u001b[43mBy\u001b[49m\u001b[38;5;241;43m.\u001b[39;49m\u001b[43mXPATH\u001b[49m\u001b[43m,\u001b[49m\u001b[43m \u001b[49m\u001b[38;5;124;43m'\u001b[39;49m\u001b[38;5;124;43m//*[@id=\u001b[39;49m\u001b[38;5;124;43m\"\u001b[39;49m\u001b[38;5;124;43mfrm\u001b[39;49m\u001b[38;5;124;43m\"\u001b[39;49m\u001b[38;5;124;43m]/div[2]/div[2]/main/div[1]/div[1]/div[2]/a\u001b[39;49m\u001b[38;5;124;43m'\u001b[39;49m\u001b[43m)\u001b[49m\n\u001b[0;32m     24\u001b[0m clickable_element\u001b[38;5;241m.\u001b[39mclick()\n\u001b[0;32m     27\u001b[0m driver\u001b[38;5;241m.\u001b[39mquit()\n",
      "File \u001b[1;32mc:\\Users\\jkolo\\AppData\\Local\\Programs\\Python\\Python312\\Lib\\site-packages\\selenium\\webdriver\\remote\\webdriver.py:748\u001b[0m, in \u001b[0;36mWebDriver.find_element\u001b[1;34m(self, by, value)\u001b[0m\n\u001b[0;32m    745\u001b[0m     by \u001b[38;5;241m=\u001b[39m By\u001b[38;5;241m.\u001b[39mCSS_SELECTOR\n\u001b[0;32m    746\u001b[0m     value \u001b[38;5;241m=\u001b[39m \u001b[38;5;124mf\u001b[39m\u001b[38;5;124m'\u001b[39m\u001b[38;5;124m[name=\u001b[39m\u001b[38;5;124m\"\u001b[39m\u001b[38;5;132;01m{\u001b[39;00mvalue\u001b[38;5;132;01m}\u001b[39;00m\u001b[38;5;124m\"\u001b[39m\u001b[38;5;124m]\u001b[39m\u001b[38;5;124m'\u001b[39m\n\u001b[1;32m--> 748\u001b[0m \u001b[38;5;28;01mreturn\u001b[39;00m \u001b[38;5;28;43mself\u001b[39;49m\u001b[38;5;241;43m.\u001b[39;49m\u001b[43mexecute\u001b[49m\u001b[43m(\u001b[49m\u001b[43mCommand\u001b[49m\u001b[38;5;241;43m.\u001b[39;49m\u001b[43mFIND_ELEMENT\u001b[49m\u001b[43m,\u001b[49m\u001b[43m \u001b[49m\u001b[43m{\u001b[49m\u001b[38;5;124;43m\"\u001b[39;49m\u001b[38;5;124;43musing\u001b[39;49m\u001b[38;5;124;43m\"\u001b[39;49m\u001b[43m:\u001b[49m\u001b[43m \u001b[49m\u001b[43mby\u001b[49m\u001b[43m,\u001b[49m\u001b[43m \u001b[49m\u001b[38;5;124;43m\"\u001b[39;49m\u001b[38;5;124;43mvalue\u001b[39;49m\u001b[38;5;124;43m\"\u001b[39;49m\u001b[43m:\u001b[49m\u001b[43m \u001b[49m\u001b[43mvalue\u001b[49m\u001b[43m}\u001b[49m\u001b[43m)\u001b[49m[\u001b[38;5;124m\"\u001b[39m\u001b[38;5;124mvalue\u001b[39m\u001b[38;5;124m\"\u001b[39m]\n",
      "File \u001b[1;32mc:\\Users\\jkolo\\AppData\\Local\\Programs\\Python\\Python312\\Lib\\site-packages\\selenium\\webdriver\\remote\\webdriver.py:354\u001b[0m, in \u001b[0;36mWebDriver.execute\u001b[1;34m(self, driver_command, params)\u001b[0m\n\u001b[0;32m    352\u001b[0m response \u001b[38;5;241m=\u001b[39m \u001b[38;5;28mself\u001b[39m\u001b[38;5;241m.\u001b[39mcommand_executor\u001b[38;5;241m.\u001b[39mexecute(driver_command, params)\n\u001b[0;32m    353\u001b[0m \u001b[38;5;28;01mif\u001b[39;00m response:\n\u001b[1;32m--> 354\u001b[0m     \u001b[38;5;28;43mself\u001b[39;49m\u001b[38;5;241;43m.\u001b[39;49m\u001b[43merror_handler\u001b[49m\u001b[38;5;241;43m.\u001b[39;49m\u001b[43mcheck_response\u001b[49m\u001b[43m(\u001b[49m\u001b[43mresponse\u001b[49m\u001b[43m)\u001b[49m\n\u001b[0;32m    355\u001b[0m     response[\u001b[38;5;124m\"\u001b[39m\u001b[38;5;124mvalue\u001b[39m\u001b[38;5;124m\"\u001b[39m] \u001b[38;5;241m=\u001b[39m \u001b[38;5;28mself\u001b[39m\u001b[38;5;241m.\u001b[39m_unwrap_value(response\u001b[38;5;241m.\u001b[39mget(\u001b[38;5;124m\"\u001b[39m\u001b[38;5;124mvalue\u001b[39m\u001b[38;5;124m\"\u001b[39m, \u001b[38;5;28;01mNone\u001b[39;00m))\n\u001b[0;32m    356\u001b[0m     \u001b[38;5;28;01mreturn\u001b[39;00m response\n",
      "File \u001b[1;32mc:\\Users\\jkolo\\AppData\\Local\\Programs\\Python\\Python312\\Lib\\site-packages\\selenium\\webdriver\\remote\\errorhandler.py:229\u001b[0m, in \u001b[0;36mErrorHandler.check_response\u001b[1;34m(self, response)\u001b[0m\n\u001b[0;32m    227\u001b[0m         alert_text \u001b[38;5;241m=\u001b[39m value[\u001b[38;5;124m\"\u001b[39m\u001b[38;5;124malert\u001b[39m\u001b[38;5;124m\"\u001b[39m]\u001b[38;5;241m.\u001b[39mget(\u001b[38;5;124m\"\u001b[39m\u001b[38;5;124mtext\u001b[39m\u001b[38;5;124m\"\u001b[39m)\n\u001b[0;32m    228\u001b[0m     \u001b[38;5;28;01mraise\u001b[39;00m exception_class(message, screen, stacktrace, alert_text)  \u001b[38;5;66;03m# type: ignore[call-arg]  # mypy is not smart enough here\u001b[39;00m\n\u001b[1;32m--> 229\u001b[0m \u001b[38;5;28;01mraise\u001b[39;00m exception_class(message, screen, stacktrace)\n",
      "\u001b[1;31mNoSuchElementException\u001b[0m: Message: no such element: Unable to locate element: {\"method\":\"xpath\",\"selector\":\"//*[@id=\"frm\"]/div[2]/div[2]/main/div[1]/div[1]/div[2]/a\"}\n  (Session info: chrome=131.0.6778.86); For documentation on this error, please visit: https://www.selenium.dev/documentation/webdriver/troubleshooting/errors#no-such-element-exception\nStacktrace:\n\tGetHandleVerifier [0x00007FF7ED626CB5+28821]\n\t(No symbol) [0x00007FF7ED593840]\n\t(No symbol) [0x00007FF7ED43578A]\n\t(No symbol) [0x00007FF7ED4891BE]\n\t(No symbol) [0x00007FF7ED4894AC]\n\t(No symbol) [0x00007FF7ED4D2647]\n\t(No symbol) [0x00007FF7ED4AF33F]\n\t(No symbol) [0x00007FF7ED4CF412]\n\t(No symbol) [0x00007FF7ED4AF0A3]\n\t(No symbol) [0x00007FF7ED47A778]\n\t(No symbol) [0x00007FF7ED47B8E1]\n\tGetHandleVerifier [0x00007FF7ED95FCAD+3408013]\n\tGetHandleVerifier [0x00007FF7ED97741F+3504127]\n\tGetHandleVerifier [0x00007FF7ED96B5FD+3455453]\n\tGetHandleVerifier [0x00007FF7ED6EBDBB+835995]\n\t(No symbol) [0x00007FF7ED59EB5F]\n\t(No symbol) [0x00007FF7ED59A814]\n\t(No symbol) [0x00007FF7ED59A9AD]\n\t(No symbol) [0x00007FF7ED58A199]\n\tBaseThreadInitThunk [0x00007FFB7678E8D7+23]\n\tRtlUserThreadStart [0x00007FFB777FFBCC+44]\n"
     ]
    }
   ],
   "source": [
    "driver = webdriver.Chrome()\n",
    "\n",
    "\n",
    "driver.get(\"https://www.trueachievements.com/login\")\n",
    "\n",
    "# Find the GamerTag input field by its ID\n",
    "gamer_tag_input = driver.find_element(By.ID, \"txtGamerTag\")\n",
    "# Enter your GamerTag into the field\n",
    "gamer_tag_input.send_keys(username)\n",
    "\n",
    "#login info\n",
    "password_input = driver.find_element(By.ID, \"txtPassword\")\n",
    "password_input.send_keys(password)\n",
    "\n",
    "\n",
    "login_button = driver.find_element(By.ID, \"btnLogin\")\n",
    "login_button.click()\n",
    "\n",
    "driver.get(\"https://www.trueachievements.com/win-xbox-games\")\n",
    "\n",
    "\n",
    "#clicking on daily games contest\n",
    "clickable_element = driver.find_element(By.XPATH, '//*[@id=\"frm\"]/div[2]/div[2]/main/div[1]/div[1]/div[2]/a')\n",
    "clickable_element.click()\n",
    "\n",
    "\n",
    "driver.quit()\n",
    "\n",
    "\n"
   ]
  }
 ],
 "metadata": {
  "kernelspec": {
   "display_name": "Python 3",
   "language": "python",
   "name": "python3"
  },
  "language_info": {
   "codemirror_mode": {
    "name": "ipython",
    "version": 3
   },
   "file_extension": ".py",
   "mimetype": "text/x-python",
   "name": "python",
   "nbconvert_exporter": "python",
   "pygments_lexer": "ipython3",
   "version": "3.12.2"
  }
 },
 "nbformat": 4,
 "nbformat_minor": 2
}
